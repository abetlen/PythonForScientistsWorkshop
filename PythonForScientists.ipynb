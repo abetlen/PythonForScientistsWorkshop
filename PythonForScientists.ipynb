{
 "cells": [
  {
   "cell_type": "markdown",
   "metadata": {},
   "source": [
    "# Python for Scientists\n",
    "\n",
    "\n",
    "## 1. Introduction"
   ]
  },
  {
   "cell_type": "code",
   "execution_count": 21,
   "metadata": {},
   "outputs": [
    {
     "name": "stdout",
     "output_type": "stream",
     "text": [
      "Hello World!\n"
     ]
    }
   ],
   "source": [
    "print(\"Hello World!\")"
   ]
  },
  {
   "cell_type": "markdown",
   "metadata": {},
   "source": [
    "### 1.1 Notebook and Cells\n",
    "\n",
    "**Cells** are the basic elements of a Jupyter notebook, they are extensible extensible but for the sake of this workshop they are used to run python code and render markdown.\n",
    "\n",
    "**This is a markdown cell**\n",
    "\n",
    "Markdown is a markup language used commonly for documents.\n",
    "\n",
    "- They can include lists\n",
    "- [Embedded Links](google.com)\n",
    "\n",
    "> Quotes\n",
    "\n",
    "```python\n",
    "def TheyCanEvenIncludeCodeSnippets():\n",
    "    pass\n",
    "```\n",
    "\n",
    "They can also contain inline $\\LaTeX$\n",
    "\n",
    "or multiline equations.\n",
    "\n",
    "$$\n",
    "\\sum_{n=1}^{N} = \\frac{n (n+1)}{2}\n",
    "$$"
   ]
  },
  {
   "cell_type": "code",
   "execution_count": 30,
   "metadata": {},
   "outputs": [],
   "source": [
    "# This is a python cell\n",
    "\n",
    "# you can define variables\n",
    "x = \"Tor\"\n",
    "\n",
    "# and functions\n",
    "def foo():\n",
    "    return \"onto\""
   ]
  },
  {
   "cell_type": "code",
   "execution_count": 31,
   "metadata": {},
   "outputs": [
    {
     "name": "stdout",
     "output_type": "stream",
     "text": [
      "Toronto\n"
     ]
    }
   ],
   "source": [
    "# and use them in later cells\n",
    "print(x + foo())"
   ]
  },
  {
   "cell_type": "markdown",
   "metadata": {},
   "source": [
    "### 1.2 Numpy\n",
    "\n",
    "Numerical Python Library: fast linear algebra in Python.\n",
    "\n",
    "**`ndarray`**: n-dimensional array, is the core of the numpy library, almost every function in numpy can operate on both scalars and arrays of arbitrary dimension.\n",
    "\n",
    "Let's say we want to predict the weather next week. We know that likelihood of the weather tomorrow depends on the weather today by this table (**Markov Chain**):\n",
    "\n",
    "|      | rain | clear|\n",
    "|------|------|------|\n",
    "|rain  | 0.3  | 0.7  |\n",
    "|clear | 0.1  | 0.9  |\n",
    "\n",
    "And we know the probability distribution of a discrete markov process evolves subject to:\n",
    "\n",
    "$$\n",
    "\\begin{align}\n",
    "x_n &= x_{n-1} P\\\\\n",
    "&= x_{n-1}\n",
    "\\begin{bmatrix}\n",
    "0.3 & 0.7\\\\\n",
    "0.1 & 0.9\\\\\n",
    "\\end{bmatrix}\n",
    "\\end{align}\n",
    "$$"
   ]
  },
  {
   "cell_type": "code",
   "execution_count": 110,
   "metadata": {},
   "outputs": [
    {
     "name": "stdout",
     "output_type": "stream",
     "text": [
      "P(x) after 1 day(s) is [0.3 0.7]\n",
      "P(x) after 2 day(s) is [0.16 0.84]\n",
      "P(x) after 3 day(s) is [0.132 0.868]\n",
      "P(x) after 4 day(s) is [0.1264 0.8736]\n",
      "P(x) after 5 day(s) is [0.12528 0.87472]\n",
      "P(x) after 6 day(s) is [0.125056 0.874944]\n",
      "P(x) after 7 day(s) is [0.1250112 0.8749888]\n"
     ]
    }
   ],
   "source": [
    "import numpy as np\n",
    "\n",
    "# transition probabilities\n",
    "rain_transitions = [0.3, 0.7]\n",
    "clear_transitions = [0.1, 0.9]\n",
    "\n",
    "# Numpy arrays can be initialized from python lists\n",
    "state = np.array([1, 0])\n",
    "\n",
    "# and multidimenional lists\n",
    "probs = np.array([rain_transitions,\n",
    "                  clear_transitions])\n",
    "\n",
    "for i in range(7):\n",
    "    state = state.dot(probs)\n",
    "    \n",
    "    print(\"P(x) after {i} day(s) is {state}\".format(i=i + 1, state=state))"
   ]
  },
  {
   "cell_type": "markdown",
   "metadata": {},
   "source": [
    "After an arbitrary number of days the distribution is:\n",
    "\n",
    "$$\n",
    "\\begin{align}\n",
    "x_n &= x_{n-1} P\\\\\n",
    "&= (x_{n-2} P ) P\\\\\n",
    "&= x_{n-2} P^2\\\\\n",
    "&=\\ldots \\\\\n",
    "&= x_{0} P^n\n",
    "\\end{align}\n",
    "$$"
   ]
  },
  {
   "cell_type": "code",
   "execution_count": 114,
   "metadata": {},
   "outputs": [
    {
     "data": {
      "text/plain": [
       "array([0.125, 0.875])"
      ]
     },
     "execution_count": 114,
     "metadata": {},
     "output_type": "execute_result"
    }
   ],
   "source": [
    "initial_state = np.array([1, 0])\n",
    "\n",
    "P_n = np.linalg.matrix_power(probs, 14)\n",
    "\n",
    "initial_state.dot(P_n)"
   ]
  },
  {
   "cell_type": "markdown",
   "metadata": {},
   "source": [
    "### 1.3 Matplotlib\n",
    "\n",
    "Scientific Python plotting library, familiar interface for those who've worked with Matlab.\n"
   ]
  },
  {
   "cell_type": "code",
   "execution_count": 121,
   "metadata": {},
   "outputs": [],
   "source": [
    "# This cell contains a cell magic, these begin with a % and behave differently from python code.\n",
    "# This cell magic tells matplotlib to render figures inside the notebook.\n",
    "%matplotlib inline"
   ]
  },
  {
   "cell_type": "code",
   "execution_count": 150,
   "metadata": {},
   "outputs": [
    {
     "data": {
      "image/png": "[encoded data removed]",
      "text/plain": [
       "<matplotlib.figure.Figure at 0x7f13b9f12cf8>"
      ]
     },
     "metadata": {},
     "output_type": "display_data"
    }
   ],
   "source": [
    "import numpy as np\n",
    "import matplotlib.pyplot as plt\n",
    "\n",
    "# Returns an array of points\n",
    "x = np.linspace(start=-1, stop=3.0, num=100, endpoint=True)\n",
    "\n",
    "y_1 = np.exp(x) # Example of a ufunc\n",
    "y_2 = np.e * x # Example of broadcasting\n",
    "\n",
    "plt.title(\"This Workshop\")\n",
    "plt.xlabel(\"Time\")\n",
    "plt.ylabel(\"Fun\")\n",
    "\n",
    "plt.plot(x, y_1, label=\"Fun Curve\")\n",
    "plt.plot(x, y_2, \"b--\")\n",
    "\n",
    "plt.grid(True)\n",
    "plt.legend()\n",
    "\n",
    "plt.show()"
   ]
  },
  {
   "cell_type": "code",
   "execution_count": 146,
   "metadata": {},
   "outputs": [
    {
     "data": {
      "application/vnd.jupyter.widget-view+json": {
       "model_id": "f909e01d6f064235b735384be77c0832",
       "version_major": 2,
       "version_minor": 0
      },
      "text/html": [
       "<p>Failed to display Jupyter Widget of type <code>interactive</code>.</p>\n",
       "<p>\n",
       "  If you're reading this message in the Jupyter Notebook or JupyterLab Notebook, it may mean\n",
       "  that the widgets JavaScript is still loading. If this message persists, it\n",
       "  likely means that the widgets JavaScript library is either not installed or\n",
       "  not enabled. See the <a href=\"https://ipywidgets.readthedocs.io/en/stable/user_install.html\">Jupyter\n",
       "  Widgets Documentation</a> for setup instructions.\n",
       "</p>\n",
       "<p>\n",
       "  If you're reading this message in another frontend (for example, a static\n",
       "  rendering on GitHub or <a href=\"https://nbviewer.jupyter.org/\">NBViewer</a>),\n",
       "  it may mean that your frontend doesn't currently support widgets.\n",
       "</p>\n"
      ],
      "text/plain": [
       "interactive(children=(FloatSlider(value=1.0, description='p', max=3.0, step=0.01), Output()), _dom_classes=('widget-interact',))"
      ]
     },
     "metadata": {},
     "output_type": "display_data"
    }
   ],
   "source": [
    "from ipywidgets import interact\n",
    "\n",
    "x = np.linspace(start=-1, stop=3.0, num=100, endpoint=True)\n",
    "y_1 = np.exp(x) # Example of a ufunc\n",
    "\n",
    "def plot_fun_graph(p=1.0):\n",
    "    # tangent line equation\n",
    "    m = np.exp(p)\n",
    "    b = np.exp(p) - m * p\n",
    "    \n",
    "    y_2 = m * x + b\n",
    "\n",
    "    plt.title(\"This Workshop\")\n",
    "    plt.xlabel(\"Time\")\n",
    "    plt.ylabel(\"Fun\")\n",
    "\n",
    "    plt.plot(x, y_1, label=\"Fun Curve\")\n",
    "    plt.plot(x, y_2, \"b--\")\n",
    "\n",
    "    plt.grid(True)\n",
    "    plt.legend()\n",
    "\n",
    "    plt.ylim([0, 20])\n",
    "    plt.xlim([-1, 3])\n",
    "\n",
    "interact(plot_fun_graph, p=(0., 3., .01))\n",
    "plt.show()"
   ]
  },
  {
   "cell_type": "markdown",
   "metadata": {},
   "source": [
    "### 1.4 Scipy\n",
    "\n",
    "Scipy: Common scientific computing functionality built on numpy\n",
    "\n",
    "- `interpolation`\n",
    "- `fftpack`\n",
    "- `optimize`\n",
    "\n",
    "#### 1.4.1 Interpolation"
   ]
  },
  {
   "cell_type": "code",
   "execution_count": 389,
   "metadata": {},
   "outputs": [
    {
     "data": {
      "image/png": "[encoded data removed]",
      "text/plain": [
       "<matplotlib.figure.Figure at 0x7f13a63cf320>"
      ]
     },
     "metadata": {},
     "output_type": "display_data"
    }
   ],
   "source": [
    "from scipy.interpolate import interp1d\n",
    "\n",
    "x = np.array([1, 5, 15, 30, 50])\n",
    "y = np.log(x)\n",
    "\n",
    "f = interp1d(x, y, kind=\"linear\")\n",
    "\n",
    "x2 = np.linspace(start=1, stop=50, num=100)\n",
    "\n",
    "plt.plot(x, y, \"ro\")\n",
    "plt.plot(x2, f(x2))\n",
    "plt.show()"
   ]
  },
  {
   "cell_type": "code",
   "execution_count": 365,
   "metadata": {},
   "outputs": [
    {
     "data": {
      "image/png": "[encoded data removed]",
      "text/plain": [
       "<matplotlib.figure.Figure at 0x7f13ac0374a8>"
      ]
     },
     "metadata": {},
     "output_type": "display_data"
    }
   ],
   "source": [
    "from scipy.interpolate import interp1d\n",
    "from scipy.fftpack import fft\n",
    "\n",
    "f1 = 10.0\n",
    "f2 = 30.0\n",
    "\n",
    "N = 600\n",
    "T = 1 / 800.0\n",
    "\n",
    "x = np.linspace(start=0, stop=N * T, num=N)\n",
    "y = np.sin(f1 * np.pi * 2 * x) + np.sin(f2 * np.pi * 2 * x) / 3\n",
    "\n",
    "yf = fft(y)\n",
    "xf = np.linspace(0, 1 / (2.0 * T), N // 2)\n",
    "\n",
    "plt.subplot(2, 1, 1)\n",
    "plt.plot(x, y)\n",
    "\n",
    "plt.subplot(2, 1, 2)\n",
    "plt.plot(xf, np.abs(2.0 / N * yf[:N//2]))\n",
    "\n",
    "plt.show()"
   ]
  },
  {
   "cell_type": "markdown",
   "metadata": {},
   "source": [
    "#### 1.4.2 Optimization\n",
    "\n",
    "Rosenbrock's valley function:\n",
    "$$\n",
    "f(x, y) = (a - x)^2 + b (y - x^2)^2\n",
    "$$\n",
    "minimized when\n",
    "$$\n",
    "(x, y) = (a, a^2)\n",
    "$$"
   ]
  },
  {
   "cell_type": "code",
   "execution_count": 317,
   "metadata": {},
   "outputs": [
    {
     "data": {
      "application/vnd.jupyter.widget-view+json": {
       "model_id": "554ebfc2325c49cea35b8410930d12c8",
       "version_major": 2,
       "version_minor": 0
      },
      "text/html": [
       "<p>Failed to display Jupyter Widget of type <code>interactive</code>.</p>\n",
       "<p>\n",
       "  If you're reading this message in the Jupyter Notebook or JupyterLab Notebook, it may mean\n",
       "  that the widgets JavaScript is still loading. If this message persists, it\n",
       "  likely means that the widgets JavaScript library is either not installed or\n",
       "  not enabled. See the <a href=\"https://ipywidgets.readthedocs.io/en/stable/user_install.html\">Jupyter\n",
       "  Widgets Documentation</a> for setup instructions.\n",
       "</p>\n",
       "<p>\n",
       "  If you're reading this message in another frontend (for example, a static\n",
       "  rendering on GitHub or <a href=\"https://nbviewer.jupyter.org/\">NBViewer</a>),\n",
       "  it may mean that your frontend doesn't currently support widgets.\n",
       "</p>\n"
      ],
      "text/plain": [
       "interactive(children=(IntSlider(value=240, description='angle', max=360), Output()), _dom_classes=('widget-interact',))"
      ]
     },
     "metadata": {},
     "output_type": "display_data"
    }
   ],
   "source": [
    "from mpl_toolkits.mplot3d import Axes3D\n",
    "\n",
    "\n",
    "def rosenbrock(X, a=1, b=100):\n",
    "    x, y = X\n",
    "\n",
    "    return (a - x)**2 + b * (y - x**2)**2\n",
    "\n",
    "x = np.linspace(-2, 2)\n",
    "y = np.linspace(-1.0, 3)\n",
    "\n",
    "X, Y = np.meshgrid(x, y)\n",
    "\n",
    "Z = rosenbrock((X, Y))\n",
    "\n",
    "\n",
    "def plot_rosenbrock(angle=240):\n",
    "    fig = plt.figure()\n",
    "    ax = fig.add_subplot(111, projection='3d')\n",
    "    ax.plot_surface(X, Y, Z, cmap=\"jet\")\n",
    "    ax.view_init(45, angle)\n",
    "\n",
    "interact(plot_rosenbrock, angle=(0, 360))\n",
    "plt.show()"
   ]
  },
  {
   "cell_type": "code",
   "execution_count": 321,
   "metadata": {},
   "outputs": [
    {
     "data": {
      "text/plain": [
       " final_simplex: (array([[1.00000205, 1.00000565],\n",
       "       [0.99996743, 0.99993257],\n",
       "       [0.99996276, 0.99992823]]), array([2.42887199e-10, 1.58293615e-09, 2.11970761e-09]))\n",
       "           fun: 2.4288719914788363e-10\n",
       "       message: 'Optimization terminated successfully.'\n",
       "          nfev: 191\n",
       "           nit: 101\n",
       "        status: 0\n",
       "       success: True\n",
       "             x: array([1.00000205, 1.00000565])"
      ]
     },
     "execution_count": 321,
     "metadata": {},
     "output_type": "execute_result"
    }
   ],
   "source": [
    "from scipy.optimize import minimize\n",
    "\n",
    "minimize(rosenbrock, x0=(0, 1), method=\"nelder-mead\")"
   ]
  },
  {
   "cell_type": "markdown",
   "metadata": {},
   "source": [
    "## 2. scikits\n",
    "\n",
    "General extension libraries to scientific python.\n",
    "\n",
    "- [scikit-image](http://scikit-image.org/): image processing and computer vision\n",
    "- [scikit-learn](http://scikit-learn.org/stable/): machine learning\n",
    "- [scikit-optimize](https://scikit-optimize.github.io/): bayesian optimization"
   ]
  }
 ],
 "metadata": {
  "kernelspec": {
   "display_name": "Python 3",
   "language": "python",
   "name": "python3"
  },
  "language_info": {
   "codemirror_mode": {
    "name": "ipython",
    "version": 3
   },
   "file_extension": ".py",
   "mimetype": "text/x-python",
   "name": "python",
   "nbconvert_exporter": "python",
   "pygments_lexer": "ipython3",
   "version": "3.6.2"
  }
 },
 "nbformat": 4,
 "nbformat_minor": 2
}
